{
 "cells": [
  {
   "cell_type": "code",
   "execution_count": 1,
   "metadata": {},
   "outputs": [],
   "source": [
    "import os\n",
    "from PIL import Image\n",
    "from torchvision import transforms as tfs"
   ]
  },
  {
   "cell_type": "code",
   "execution_count": 4,
   "metadata": {},
   "outputs": [],
   "source": [
    "for foldername in os.listdir(r'./artist_distribute'):\n",
    "    for filename in os.listdir(r'./artist_distribute/' + foldername):\n",
    "        im = Image.open('./artist_distribute/'+ foldername + '/' + filename)\n",
    "        h_flip = tfs.RandomHorizontalFlip(p=1)(im)\n",
    "        h_flip.save('./artist_distribute/' + foldername + '/' + filename + '-h_flip.jpg')\n",
    "        v_flip = tfs.RandomVerticalFlip(p=1)(im)\n",
    "        v_flip.save('./artist_distribute/' + foldername + '/' + filename + '-v_flip.jpg')\n",
    "        random1 = tfs.RandomRotation(60, resample=False, expand=False, center=None)(im)\n",
    "        random1.save('./artist_distribute/' + foldername + '/' + filename + '-random1.jpg')\n",
    "        random2 = tfs.RandomRotation(60, resample=False, expand=False, center=None)(im)\n",
    "        random2.save('./artist_distribute/' + foldername + '/' + filename + '-random2.jpg')\n",
    "        #bright_im = tfs.ColorJitter(brightness=1)(im)\n",
    "        #bright_im.save('./artist_distribute1/' + foldername + '/' + filename + '-bright_im.jpg')\n",
    "        #contrast_im = tfs.ColorJitter(contrast=1)(im)\n",
    "        #contrast_im.save('./artist_distribute1/' + foldername + '/' + filename + '-contrast_im.jpg')\n",
    "        #color_im = tfs.ColorJitter(hue=0.5)(im)\n",
    "        #color_im.save('./artist_distribute1/' + foldername + '/' + filename + '-color_im.jpg')"
   ]
  },
  {
   "cell_type": "code",
   "execution_count": null,
   "metadata": {},
   "outputs": [],
   "source": []
  }
 ],
 "metadata": {
  "kernelspec": {
   "display_name": "Python 3",
   "language": "python",
   "name": "python3"
  },
  "language_info": {
   "codemirror_mode": {
    "name": "ipython",
    "version": 3
   },
   "file_extension": ".py",
   "mimetype": "text/x-python",
   "name": "python",
   "nbconvert_exporter": "python",
   "pygments_lexer": "ipython3",
   "version": "3.7.3"
  }
 },
 "nbformat": 4,
 "nbformat_minor": 2
}
