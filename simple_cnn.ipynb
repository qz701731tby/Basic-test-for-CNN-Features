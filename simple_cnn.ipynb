{
 "cells": [
  {
   "cell_type": "code",
   "execution_count": 2,
   "metadata": {},
   "outputs": [],
   "source": [
    "import torch\n",
    "import torch.nn as nn\n",
    "import torch.nn.functional as F\n",
    "import torch.optim as optim\n",
    "import torchvision\n",
    "import torchvision.transforms as transforms\n",
    "import torchvision.datasets as datasets\n",
    "import matplotlib.pyplot as plt\n",
    "from torchvision import models\n",
    "from PIL import Image\n",
    "\n",
    "import os\n",
    "import numpy as np"
   ]
  },
  {
   "cell_type": "code",
   "execution_count": 5,
   "metadata": {},
   "outputs": [],
   "source": [
    "train_data = torchvision.datasets.ImageFolder('E:/jupyter_program/artist painting/artist_distribute',\n",
    "                                            transform=transforms.ToTensor())\n",
    "\n",
    "test_data = torchvision.datasets.ImageFolder('E:/jupyter_program/artist painting/test_set',\n",
    "                                               transform=transforms.ToTensor())\n",
    "                                           \n",
    "#train_data = datasets.CIFAR10('data', train=True, download=True, transform=train_transforms)\n",
    "#test_data = datasets.CIFAR10('data', train=False, download=True, transform=test_transforms)\n",
    "\n",
    "n_train_examples = int(len(train_data)*0.9)\n",
    "n_valid_examples = len(train_data) - n_train_examples\n",
    "\n",
    "train_data, valid_data = torch.utils.data.random_split(train_data, [n_train_examples, n_valid_examples])"
   ]
  },
  {
   "cell_type": "code",
   "execution_count": 6,
   "metadata": {},
   "outputs": [
    {
     "name": "stdout",
     "output_type": "stream",
     "text": [
      "Number of training examples: 1822\n",
      "Number of validation examples: 203\n",
      "Number of testing examples: 46\n"
     ]
    }
   ],
   "source": [
    "print(f'Number of training examples: {len(train_data)}')\n",
    "print(f'Number of validation examples: {len(valid_data)}')\n",
    "print(f'Number of testing examples: {len(test_data)}')"
   ]
  },
  {
   "cell_type": "code",
   "execution_count": 7,
   "metadata": {},
   "outputs": [],
   "source": [
    "BATCH_SIZE = 64\n",
    "\n",
    "train_iterator = torch.utils.data.DataLoader(train_data, shuffle=True, batch_size=BATCH_SIZE)\n",
    "valid_iterator = torch.utils.data.DataLoader(valid_data, batch_size=BATCH_SIZE)\n",
    "test_iterator = torch.utils.data.DataLoader(test_data, batch_size=BATCH_SIZE)"
   ]
  },
  {
   "cell_type": "code",
   "execution_count": 12,
   "metadata": {},
   "outputs": [],
   "source": [
    "  # 定义网络结构\n",
    "class CNN(nn.Module):\n",
    "    def __init__(self):\n",
    "        super(CNN, self).__init__()\n",
    "        self.conv1 = nn.Sequential(\n",
    "            nn.Conv2d(in_channels=3, out_channels=16, kernel_size=3, stride=1,padding=1),  # 初始化卷积核大小为3*3\n",
    "            #nn.Dropout2d(0.1),\n",
    "            nn.ReLU(),  # 使用relu激活\n",
    "            nn.MaxPool2d(kernel_size=2),  # 采用最大池化2*2\n",
    "        )\n",
    "        self.conv2 = nn.Sequential(\n",
    "            nn.Conv2d(16, 32, 3, 1, 1), \n",
    "            #nn.Dropout2d(0.1),\n",
    "            nn.ReLU(), \n",
    "            nn.MaxPool2d(kernel_size=2),\n",
    "        )\n",
    "        self.conv3 = nn.Sequential(\n",
    "            nn.Conv2d(32, 64, 3, 1, 1), \n",
    "            nn.ReLU(), \n",
    "            nn.MaxPool2d(kernel_size=2),\n",
    "        )\n",
    "        '''self.conv3 = nn.Sequential(\n",
    "            nn.Conv2d(64, 128, 3, 1, 1), \n",
    "            nn.ReLU(), \n",
    "            nn.MaxPool2d(kernel_size=2),\n",
    "        )'''\n",
    "        #self.fc1 = nn.Linear(32*64*64, 512) \n",
    "        self.fc1 = nn.Linear(64*32*32, 512) \n",
    "        self.relu = nn.ReLU()\n",
    "        self.output = nn.Linear(512, 11)  # 使用全连接输出\n",
    "        #self.fc1 = nn.Linear(32*16*16, 11)  # 使用全连接输出\n",
    "        #self.bn1 = nn.BatchNorm2d(16)\n",
    "        #self.bn2 = nn.BatchNorm2d(32)\n",
    "        #self.bn3 = nn.BatchNorm2d(512)\n",
    "        #self.fc_bn = nn.BatchNorm1d(512)\n",
    "        self.dropout = nn.Dropout(p=0.2)\n",
    "          \n",
    "    def forward(self, x):\n",
    "        x = self.conv1(x)\n",
    "        #x = self.bn1(x)\n",
    "        x = self.conv2(x)\n",
    "        #x = self.bn2(x)\n",
    "        #x = self.conv3(x)\n",
    "        x = x.view(x.size(0), -1)\n",
    "        x = self.fc1(x)\n",
    "        #x = self.fc_bn(x)\n",
    "        x = self.relu(x)\n",
    "        output = self.output(x)\n",
    "        output = self.dropout(output)\n",
    "        return output\n"
   ]
  },
  {
   "cell_type": "code",
   "execution_count": 13,
   "metadata": {},
   "outputs": [],
   "source": [
    "device = torch.device('cuda' if torch.cuda.is_available() else 'cpu')"
   ]
  },
  {
   "cell_type": "code",
   "execution_count": null,
   "metadata": {},
   "outputs": [],
   "source": [
    "#create resnet18 model\n",
    "model = models.resnet18(pretrained = False)\n",
    "fc_features = model.fc.in_features\n",
    "model.fc = nn.Linear(fc_features, 11)\n",
    "model = model.to(device)"
   ]
  },
  {
   "cell_type": "code",
   "execution_count": 14,
   "metadata": {},
   "outputs": [],
   "source": [
    "BATCH_NORM = True\n",
    "\n",
    "model = CNN().to(device)"
   ]
  },
  {
   "cell_type": "code",
   "execution_count": 15,
   "metadata": {},
   "outputs": [
    {
     "name": "stdout",
     "output_type": "stream",
     "text": [
      "CNN(\n",
      "  (conv1): Sequential(\n",
      "    (0): Conv2d(3, 16, kernel_size=(3, 3), stride=(1, 1), padding=(1, 1))\n",
      "    (1): ReLU()\n",
      "    (2): MaxPool2d(kernel_size=2, stride=2, padding=0, dilation=1, ceil_mode=False)\n",
      "  )\n",
      "  (conv2): Sequential(\n",
      "    (0): Conv2d(16, 32, kernel_size=(3, 3), stride=(1, 1), padding=(1, 1))\n",
      "    (1): ReLU()\n",
      "    (2): MaxPool2d(kernel_size=2, stride=2, padding=0, dilation=1, ceil_mode=False)\n",
      "  )\n",
      "  (conv3): Sequential(\n",
      "    (0): Conv2d(32, 64, kernel_size=(3, 3), stride=(1, 1), padding=(1, 1))\n",
      "    (1): ReLU()\n",
      "    (2): MaxPool2d(kernel_size=2, stride=2, padding=0, dilation=1, ceil_mode=False)\n",
      "  )\n",
      "  (fc1): Linear(in_features=65536, out_features=512, bias=True)\n",
      "  (relu): ReLU()\n",
      "  (output): Linear(in_features=512, out_features=11, bias=True)\n",
      "  (dropout): Dropout(p=0.2)\n",
      ")\n"
     ]
    }
   ],
   "source": [
    "print(model)"
   ]
  },
  {
   "cell_type": "code",
   "execution_count": 78,
   "metadata": {},
   "outputs": [],
   "source": [
    "optimizer = optim.Adam(model.parameters(),lr = 0.001, weight_decay = 1e-8)"
   ]
  },
  {
   "cell_type": "code",
   "execution_count": 79,
   "metadata": {},
   "outputs": [],
   "source": [
    "criterion = nn.CrossEntropyLoss()"
   ]
  },
  {
   "cell_type": "code",
   "execution_count": 80,
   "metadata": {},
   "outputs": [],
   "source": [
    "def calculate_accuracy(fx, y):\n",
    "    preds = fx.max(1, keepdim=True)[1]\n",
    "    correct = preds.eq(y.view_as(preds)).sum()\n",
    "    acc = correct.float()/preds.shape[0]\n",
    "    return acc"
   ]
  },
  {
   "cell_type": "code",
   "execution_count": 81,
   "metadata": {},
   "outputs": [],
   "source": [
    "def train(model, device, iterator, optimizer, criterion):\n",
    "    \n",
    "    epoch_loss = 0\n",
    "    epoch_acc = 0\n",
    "    \n",
    "    model.train()\n",
    "    \n",
    "    for (x, y) in iterator:\n",
    "        \n",
    "        x = x.to(device)\n",
    "        y = y.to(device)\n",
    "        \n",
    "        optimizer.zero_grad()\n",
    "                \n",
    "        fx = model(x)\n",
    "        \n",
    "        loss = criterion(fx, y)\n",
    "        \n",
    "        acc = calculate_accuracy(fx, y)\n",
    "        \n",
    "        loss.backward()\n",
    "        \n",
    "        optimizer.step()\n",
    "        \n",
    "        epoch_loss += loss.item()\n",
    "        epoch_acc += acc.item()\n",
    "        \n",
    "    return epoch_loss / len(iterator), epoch_acc / len(iterator)"
   ]
  },
  {
   "cell_type": "code",
   "execution_count": 82,
   "metadata": {},
   "outputs": [],
   "source": [
    "def evaluate(model, device, iterator, criterion):\n",
    "    \n",
    "    epoch_loss = 0\n",
    "    epoch_acc = 0\n",
    "    \n",
    "    model.eval()\n",
    "    \n",
    "    with torch.no_grad():\n",
    "        for (x, y) in iterator:\n",
    "\n",
    "            #x = x.to(device)\n",
    "            #y = y.to(device)\n",
    "\n",
    "            fx = model(x)\n",
    "\n",
    "            loss = criterion(fx, y)\n",
    "\n",
    "            acc = calculate_accuracy(fx, y)\n",
    "\n",
    "            epoch_loss += loss.item()\n",
    "            epoch_acc += acc.item()\n",
    "        \n",
    "    return epoch_loss / len(iterator), epoch_acc / len(iterator)"
   ]
  },
  {
   "cell_type": "code",
   "execution_count": 83,
   "metadata": {},
   "outputs": [
    {
     "name": "stdout",
     "output_type": "stream",
     "text": [
      "| Epoch: 01 | Train Loss: 6.771 | Train Acc: 16.05% | Val. Loss: 3.278 | Val. Acc: 24.39% |\n",
      "| Epoch: 02 | Train Loss: 2.795 | Train Acc: 17.95% | Val. Loss: 2.407 | Val. Acc: 17.07% |\n",
      "| Epoch: 03 | Train Loss: 2.183 | Train Acc: 25.02% | Val. Loss: 1.942 | Val. Acc: 41.46% |\n",
      "| Epoch: 04 | Train Loss: 1.850 | Train Acc: 38.07% | Val. Loss: 1.508 | Val. Acc: 43.90% |\n",
      "| Epoch: 05 | Train Loss: 1.563 | Train Acc: 45.29% | Val. Loss: 1.339 | Val. Acc: 46.34% |\n",
      "| Epoch: 06 | Train Loss: 1.275 | Train Acc: 54.57% | Val. Loss: 1.208 | Val. Acc: 43.90% |\n",
      "| Epoch: 07 | Train Loss: 1.104 | Train Acc: 60.46% | Val. Loss: 1.434 | Val. Acc: 46.34% |\n",
      "| Epoch: 08 | Train Loss: 1.080 | Train Acc: 59.47% | Val. Loss: 1.084 | Val. Acc: 51.22% |\n",
      "| Epoch: 09 | Train Loss: 0.946 | Train Acc: 63.78% | Val. Loss: 0.996 | Val. Acc: 60.98% |\n",
      "| Epoch: 10 | Train Loss: 0.734 | Train Acc: 73.44% | Val. Loss: 0.914 | Val. Acc: 58.54% |\n",
      "| Epoch: 11 | Train Loss: 0.667 | Train Acc: 75.09% | Val. Loss: 1.003 | Val. Acc: 58.54% |\n",
      "| Epoch: 12 | Train Loss: 0.607 | Train Acc: 76.04% | Val. Loss: 0.901 | Val. Acc: 63.41% |\n",
      "| Epoch: 13 | Train Loss: 0.566 | Train Acc: 78.22% | Val. Loss: 0.974 | Val. Acc: 65.85% |\n",
      "| Epoch: 14 | Train Loss: 0.504 | Train Acc: 79.43% | Val. Loss: 1.003 | Val. Acc: 58.54% |\n",
      "| Epoch: 15 | Train Loss: 0.509 | Train Acc: 78.15% | Val. Loss: 0.955 | Val. Acc: 68.29% |\n",
      "| Epoch: 16 | Train Loss: 0.492 | Train Acc: 81.98% | Val. Loss: 1.159 | Val. Acc: 51.22% |\n",
      "| Epoch: 17 | Train Loss: 0.464 | Train Acc: 81.87% | Val. Loss: 0.984 | Val. Acc: 56.10% |\n",
      "| Epoch: 18 | Train Loss: 0.484 | Train Acc: 79.78% | Val. Loss: 0.947 | Val. Acc: 56.10% |\n",
      "| Epoch: 19 | Train Loss: 0.364 | Train Acc: 84.99% | Val. Loss: 1.043 | Val. Acc: 60.98% |\n",
      "| Epoch: 20 | Train Loss: 0.306 | Train Acc: 86.53% | Val. Loss: 1.099 | Val. Acc: 56.10% |\n"
     ]
    }
   ],
   "source": [
    "EPOCHS = 20\n",
    "SAVE_DIR = 'models'\n",
    "MODEL_SAVE_PATH = os.path.join(SAVE_DIR, 'myVGG-artist.pt')\n",
    "\n",
    "best_valid_loss = float('inf')\n",
    "\n",
    "if not os.path.isdir(f'{SAVE_DIR}'):\n",
    "    os.makedirs(f'{SAVE_DIR}')\n",
    "\n",
    "for epoch in range(EPOCHS):\n",
    "    train_loss, train_acc = train(model, device, train_iterator, optimizer, criterion)\n",
    "    valid_loss, valid_acc = evaluate(model, device, valid_iterator, criterion)\n",
    "    \n",
    "    if valid_loss < best_valid_loss:\n",
    "        best_valid_loss = valid_loss\n",
    "        torch.save(model.state_dict(), MODEL_SAVE_PATH)\n",
    "    \n",
    "    print(f'| Epoch: {epoch+1:02} | Train Loss: {train_loss:.3f} | Train Acc: {train_acc*100:05.2f}% | Val. Loss: {valid_loss:.3f} | Val. Acc: {valid_acc*100:05.2f}% |')"
   ]
  },
  {
   "cell_type": "code",
   "execution_count": 84,
   "metadata": {},
   "outputs": [
    {
     "name": "stdout",
     "output_type": "stream",
     "text": [
      "| Test Loss: 1.286 | Test Acc: 56.52% |\n"
     ]
    }
   ],
   "source": [
    "model.load_state_dict(torch.load(MODEL_SAVE_PATH))\n",
    "\n",
    "test_loss, test_acc = evaluate(model, device, test_iterator, criterion)\n",
    "\n",
    "print(f'| Test Loss: {test_loss:.3f} | Test Acc: {test_acc*100:05.2f}% |')"
   ]
  }
 ],
 "metadata": {
  "kernelspec": {
   "display_name": "Python 3",
   "language": "python",
   "name": "python3"
  },
  "language_info": {
   "codemirror_mode": {
    "name": "ipython",
    "version": 3
   },
   "file_extension": ".py",
   "mimetype": "text/x-python",
   "name": "python",
   "nbconvert_exporter": "python",
   "pygments_lexer": "ipython3",
   "version": "3.7.3"
  }
 },
 "nbformat": 4,
 "nbformat_minor": 2
}
